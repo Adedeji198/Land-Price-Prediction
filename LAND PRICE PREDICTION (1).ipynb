{
 "cells": [
  {
   "cell_type": "markdown",
   "id": "1b12a1da",
   "metadata": {},
   "source": [
    "# land price prediction."
   ]
  },
  {
   "cell_type": "code",
   "execution_count": 42,
   "id": "844a980d",
   "metadata": {},
   "outputs": [],
   "source": [
    "import pandas as pd\n",
    "import numpy as np\n",
    "from sklearn import linear_model\n",
    "import matplotlib.pyplot as plt\n"
   ]
  },
  {
   "cell_type": "code",
   "execution_count": 43,
   "id": "07f9a56b",
   "metadata": {},
   "outputs": [
    {
     "data": {
      "text/html": [
       "<div>\n",
       "<style scoped>\n",
       "    .dataframe tbody tr th:only-of-type {\n",
       "        vertical-align: middle;\n",
       "    }\n",
       "\n",
       "    .dataframe tbody tr th {\n",
       "        vertical-align: top;\n",
       "    }\n",
       "\n",
       "    .dataframe thead th {\n",
       "        text-align: right;\n",
       "    }\n",
       "</style>\n",
       "<table border=\"1\" class=\"dataframe\">\n",
       "  <thead>\n",
       "    <tr style=\"text-align: right;\">\n",
       "      <th></th>\n",
       "      <th>land</th>\n",
       "      <th>price</th>\n",
       "    </tr>\n",
       "  </thead>\n",
       "  <tbody>\n",
       "    <tr>\n",
       "      <th>0</th>\n",
       "      <td>1000</td>\n",
       "      <td>22450000</td>\n",
       "    </tr>\n",
       "    <tr>\n",
       "      <th>1</th>\n",
       "      <td>2000</td>\n",
       "      <td>45750000</td>\n",
       "    </tr>\n",
       "    <tr>\n",
       "      <th>2</th>\n",
       "      <td>3000</td>\n",
       "      <td>68740000</td>\n",
       "    </tr>\n",
       "    <tr>\n",
       "      <th>3</th>\n",
       "      <td>4000</td>\n",
       "      <td>88780000</td>\n",
       "    </tr>\n",
       "    <tr>\n",
       "      <th>4</th>\n",
       "      <td>5000</td>\n",
       "      <td>105890000</td>\n",
       "    </tr>\n",
       "    <tr>\n",
       "      <th>5</th>\n",
       "      <td>6000</td>\n",
       "      <td>124570000</td>\n",
       "    </tr>\n",
       "    <tr>\n",
       "      <th>6</th>\n",
       "      <td>7000</td>\n",
       "      <td>147850000</td>\n",
       "    </tr>\n",
       "    <tr>\n",
       "      <th>7</th>\n",
       "      <td>8000</td>\n",
       "      <td>167850000</td>\n",
       "    </tr>\n",
       "    <tr>\n",
       "      <th>8</th>\n",
       "      <td>9000</td>\n",
       "      <td>189580000</td>\n",
       "    </tr>\n",
       "    <tr>\n",
       "      <th>9</th>\n",
       "      <td>10000</td>\n",
       "      <td>207890000</td>\n",
       "    </tr>\n",
       "  </tbody>\n",
       "</table>\n",
       "</div>"
      ],
      "text/plain": [
       "    land      price\n",
       "0   1000   22450000\n",
       "1   2000   45750000\n",
       "2   3000   68740000\n",
       "3   4000   88780000\n",
       "4   5000  105890000\n",
       "5   6000  124570000\n",
       "6   7000  147850000\n",
       "7   8000  167850000\n",
       "8   9000  189580000\n",
       "9  10000  207890000"
      ]
     },
     "execution_count": 43,
     "metadata": {},
     "output_type": "execute_result"
    }
   ],
   "source": [
    "fabulous=pd.read_csv('landpriceprediction.csv')\n",
    "fabulous"
   ]
  },
  {
   "cell_type": "code",
   "execution_count": 44,
   "id": "31f3543f",
   "metadata": {},
   "outputs": [
    {
     "data": {
      "text/plain": [
       "land     int64\n",
       "price    int64\n",
       "dtype: object"
      ]
     },
     "execution_count": 44,
     "metadata": {},
     "output_type": "execute_result"
    }
   ],
   "source": [
    "fabulous.dtypes"
   ]
  },
  {
   "cell_type": "code",
   "execution_count": 45,
   "id": "d446fd06",
   "metadata": {},
   "outputs": [
    {
     "data": {
      "text/plain": [
       "(10, 2)"
      ]
     },
     "execution_count": 45,
     "metadata": {},
     "output_type": "execute_result"
    }
   ],
   "source": [
    "fabulous.shape"
   ]
  },
  {
   "cell_type": "code",
   "execution_count": 46,
   "id": "77e4be71",
   "metadata": {},
   "outputs": [
    {
     "data": {
      "text/html": [
       "<div>\n",
       "<style scoped>\n",
       "    .dataframe tbody tr th:only-of-type {\n",
       "        vertical-align: middle;\n",
       "    }\n",
       "\n",
       "    .dataframe tbody tr th {\n",
       "        vertical-align: top;\n",
       "    }\n",
       "\n",
       "    .dataframe thead th {\n",
       "        text-align: right;\n",
       "    }\n",
       "</style>\n",
       "<table border=\"1\" class=\"dataframe\">\n",
       "  <thead>\n",
       "    <tr style=\"text-align: right;\">\n",
       "      <th></th>\n",
       "      <th>land</th>\n",
       "      <th>price</th>\n",
       "    </tr>\n",
       "  </thead>\n",
       "  <tbody>\n",
       "    <tr>\n",
       "      <th>0</th>\n",
       "      <td>1000</td>\n",
       "      <td>22450000</td>\n",
       "    </tr>\n",
       "    <tr>\n",
       "      <th>1</th>\n",
       "      <td>2000</td>\n",
       "      <td>45750000</td>\n",
       "    </tr>\n",
       "    <tr>\n",
       "      <th>2</th>\n",
       "      <td>3000</td>\n",
       "      <td>68740000</td>\n",
       "    </tr>\n",
       "    <tr>\n",
       "      <th>3</th>\n",
       "      <td>4000</td>\n",
       "      <td>88780000</td>\n",
       "    </tr>\n",
       "    <tr>\n",
       "      <th>4</th>\n",
       "      <td>5000</td>\n",
       "      <td>105890000</td>\n",
       "    </tr>\n",
       "  </tbody>\n",
       "</table>\n",
       "</div>"
      ],
      "text/plain": [
       "   land      price\n",
       "0  1000   22450000\n",
       "1  2000   45750000\n",
       "2  3000   68740000\n",
       "3  4000   88780000\n",
       "4  5000  105890000"
      ]
     },
     "execution_count": 46,
     "metadata": {},
     "output_type": "execute_result"
    }
   ],
   "source": [
    "fabulous.head()"
   ]
  },
  {
   "cell_type": "code",
   "execution_count": 47,
   "id": "8a55146b",
   "metadata": {},
   "outputs": [
    {
     "data": {
      "text/html": [
       "<div>\n",
       "<style scoped>\n",
       "    .dataframe tbody tr th:only-of-type {\n",
       "        vertical-align: middle;\n",
       "    }\n",
       "\n",
       "    .dataframe tbody tr th {\n",
       "        vertical-align: top;\n",
       "    }\n",
       "\n",
       "    .dataframe thead th {\n",
       "        text-align: right;\n",
       "    }\n",
       "</style>\n",
       "<table border=\"1\" class=\"dataframe\">\n",
       "  <thead>\n",
       "    <tr style=\"text-align: right;\">\n",
       "      <th></th>\n",
       "      <th>land</th>\n",
       "      <th>price</th>\n",
       "    </tr>\n",
       "  </thead>\n",
       "  <tbody>\n",
       "    <tr>\n",
       "      <th>5</th>\n",
       "      <td>6000</td>\n",
       "      <td>124570000</td>\n",
       "    </tr>\n",
       "    <tr>\n",
       "      <th>6</th>\n",
       "      <td>7000</td>\n",
       "      <td>147850000</td>\n",
       "    </tr>\n",
       "    <tr>\n",
       "      <th>7</th>\n",
       "      <td>8000</td>\n",
       "      <td>167850000</td>\n",
       "    </tr>\n",
       "    <tr>\n",
       "      <th>8</th>\n",
       "      <td>9000</td>\n",
       "      <td>189580000</td>\n",
       "    </tr>\n",
       "    <tr>\n",
       "      <th>9</th>\n",
       "      <td>10000</td>\n",
       "      <td>207890000</td>\n",
       "    </tr>\n",
       "  </tbody>\n",
       "</table>\n",
       "</div>"
      ],
      "text/plain": [
       "    land      price\n",
       "5   6000  124570000\n",
       "6   7000  147850000\n",
       "7   8000  167850000\n",
       "8   9000  189580000\n",
       "9  10000  207890000"
      ]
     },
     "execution_count": 47,
     "metadata": {},
     "output_type": "execute_result"
    }
   ],
   "source": [
    "fabulous.tail()"
   ]
  },
  {
   "cell_type": "code",
   "execution_count": 48,
   "id": "45f41aa5",
   "metadata": {},
   "outputs": [
    {
     "data": {
      "text/plain": [
       "Index(['land', 'price'], dtype='object')"
      ]
     },
     "execution_count": 48,
     "metadata": {},
     "output_type": "execute_result"
    }
   ],
   "source": [
    "fabulous.columns"
   ]
  },
  {
   "cell_type": "code",
   "execution_count": 49,
   "id": "d002869e",
   "metadata": {},
   "outputs": [
    {
     "data": {
      "text/plain": [
       "<bound method DataFrame.info of     land      price\n",
       "0   1000   22450000\n",
       "1   2000   45750000\n",
       "2   3000   68740000\n",
       "3   4000   88780000\n",
       "4   5000  105890000\n",
       "5   6000  124570000\n",
       "6   7000  147850000\n",
       "7   8000  167850000\n",
       "8   9000  189580000\n",
       "9  10000  207890000>"
      ]
     },
     "execution_count": 49,
     "metadata": {},
     "output_type": "execute_result"
    }
   ],
   "source": [
    "fabulous.info"
   ]
  },
  {
   "cell_type": "code",
   "execution_count": 50,
   "id": "9d0f6204",
   "metadata": {},
   "outputs": [
    {
     "data": {
      "text/plain": [
       "land     0\n",
       "price    0\n",
       "dtype: int64"
      ]
     },
     "execution_count": 50,
     "metadata": {},
     "output_type": "execute_result"
    }
   ],
   "source": [
    "fabulous.isnull().sum()"
   ]
  },
  {
   "cell_type": "code",
   "execution_count": 51,
   "id": "5bc7d20e",
   "metadata": {},
   "outputs": [
    {
     "data": {
      "text/plain": [
       "<matplotlib.collections.PathCollection at 0x1c60ff682b0>"
      ]
     },
     "execution_count": 51,
     "metadata": {},
     "output_type": "execute_result"
    },
    {
     "data": {
      "image/png": "[encoded data removed]",
      "text/plain": [
       "<Figure size 432x288 with 1 Axes>"
      ]
     },
     "metadata": {
      "needs_background": "light"
     },
     "output_type": "display_data"
    }
   ],
   "source": [
    "plt.xlabel('land')\n",
    "plt.ylabel('price')\n",
    "plt.scatter(fabulous.land,fabulous.price,color=\"orange\",marker=\"o\")"
   ]
  },
  {
   "cell_type": "markdown",
   "id": "7b091c09",
   "metadata": {},
   "source": []
  },
  {
   "cell_type": "code",
   "execution_count": 52,
   "id": "4d490337",
   "metadata": {},
   "outputs": [
    {
     "data": {
      "text/plain": [
       "0     22450000\n",
       "1     45750000\n",
       "2     68740000\n",
       "3     88780000\n",
       "4    105890000\n",
       "5    124570000\n",
       "6    147850000\n",
       "7    167850000\n",
       "8    189580000\n",
       "9    207890000\n",
       "Name: price, dtype: int64"
      ]
     },
     "execution_count": 52,
     "metadata": {},
     "output_type": "execute_result"
    }
   ],
   "source": [
    "land = fabulous.drop('price', axis='columns')\n",
    "land\n",
    "price = fabulous.price\n",
    "price\n"
   ]
  },
  {
   "cell_type": "code",
   "execution_count": 53,
   "id": "ca45e84a",
   "metadata": {},
   "outputs": [
    {
     "data": {
      "text/plain": [
       "LinearRegression()"
      ]
     },
     "execution_count": 53,
     "metadata": {},
     "output_type": "execute_result"
    }
   ],
   "source": [
    "model = linear_model.LinearRegression()\n",
    "model.fit(land,price)\n"
   ]
  },
  {
   "cell_type": "markdown",
   "id": "047cb634",
   "metadata": {},
   "source": [
    "# We can predict the price of our land. You can add any number to the bracket part and have different prices"
   ]
  },
  {
   "cell_type": "code",
   "execution_count": 54,
   "id": "3b44410f",
   "metadata": {},
   "outputs": [
    {
     "data": {
      "text/plain": [
       "array([65916666.66666667])"
      ]
     },
     "execution_count": 54,
     "metadata": {},
     "output_type": "execute_result"
    }
   ],
   "source": [
    "FabulousAreainSqFt = [[3000]]\n",
    "predictedmodelResult = model.predict(FabulousAreainSqFt)\n",
    "predictedmodelResult"
   ]
  },
  {
   "cell_type": "code",
   "execution_count": 55,
   "id": "48531541",
   "metadata": {},
   "outputs": [
    {
     "data": {
      "text/plain": [
       "array([14898333.33333334])"
      ]
     },
     "execution_count": 55,
     "metadata": {},
     "output_type": "execute_result"
    }
   ],
   "source": [
    "FabulousAreainSqFt = [[500]]\n",
    "predictedmodelResult = model.predict(FabulousAreainSqFt)\n",
    "predictedmodelResult"
   ]
  },
  {
   "cell_type": "markdown",
   "id": "0938fece",
   "metadata": {},
   "source": [
    "# Using Regression Algorithms\n"
   ]
  },
  {
   "cell_type": "code",
   "execution_count": null,
   "id": "8281caa6",
   "metadata": {},
   "outputs": [],
   "source": []
  }
 ],
 "metadata": {
  "kernelspec": {
   "display_name": "Python 3 (ipykernel)",
   "language": "python",
   "name": "python3"
  },
  "language_info": {
   "codemirror_mode": {
    "name": "ipython",
    "version": 3
   },
   "file_extension": ".py",
   "mimetype": "text/x-python",
   "name": "python",
   "nbconvert_exporter": "python",
   "pygments_lexer": "ipython3",
   "version": "3.9.7"
  }
 },
 "nbformat": 4,
 "nbformat_minor": 5
}
